{
 "cells": [
  {
   "cell_type": "markdown",
   "metadata": {},
   "source": [
    "<!--Información del curso-->\n",
    "<img align=\"left\" style=\"padding-right:10px;\" src=\"figuras/logo_cd.png\">"
   ]
  },
  {
   "cell_type": "markdown",
   "metadata": {},
   "source": [
    "<center><h1 style=\"font-size:2em;color:#2467C0\"> Datos del INEGI  </h1></center>\n",
    "<br>\n",
    "<table>\n",
    "<col width=\"550\">\n",
    "<col width=\"450\">\n",
    "<tr>\n",
    "<td><img src=\"figuras/inegi.png\" align=\"middle\" style=\"width:500\"/></td>\n",
    "<td>\n",
    "    \n",
    "El **INEGI** es un organismo público autónomo responsable de normar y coordinar el Sistema Nacional de Información Estadística y Geográfica, así como de captar y difundir información de México en cuanto al territorio, los recursos, la población y economía, que permita dar a conocer las características de nuestro país y ayudar a la toma de decisiones.\n",
    "    \n",
    "</td>\n",
    "</tr>\n",
    "</table>"
   ]
  },
  {
   "cell_type": "markdown",
   "metadata": {},
   "source": [
    "# API del Banco de Indicadores"
   ]
  },
  {
   "cell_type": "markdown",
   "metadata": {},
   "source": [
    "La API de Indicadores del INEGI permite consultar los datos y metadatos de los indicadores disponibles a nivel nacional, por entidad federativa y municipio. Puede utilizar la API para crear aplicaciones que muestren la información directamente de las bases de datos del INEGI en el preciso momento en que se actualiza.\n",
    "[[1]](https://www.inegi.org.mx/servicios/api_indicadores.html) "
   ]
  },
  {
   "cell_type": "markdown",
   "metadata": {},
   "source": [
    "<img src=\"figuras/Inegi_token.jpg\" align=\"middle\" style=\"width:1000px\"/>\n"
   ]
  },
  {
   "cell_type": "markdown",
   "metadata": {},
   "source": [
    "#  Historico de Población en México"
   ]
  },
  {
   "cell_type": "markdown",
   "metadata": {},
   "source": [
    "<div class=\"alert alert-success\">\n",
    "1. Graficar los datos del parametro \"Comparador\" de los diferentes estados de México en un mapa\n",
    "</div>"
   ]
  },
  {
   "cell_type": "code",
   "execution_count": 61,
   "metadata": {},
   "outputs": [],
   "source": [
    "import matplotlib.pyplot as plt\n",
    "import numpy as np\n",
    "import pandas as pd\n",
    "import requests\n",
    "import json                      "
   ]
  },
  {
   "cell_type": "code",
   "execution_count": 62,
   "metadata": {},
   "outputs": [],
   "source": [
    "url='https://www.inegi.org.mx/app/api/indicadores/desarrolladores/jsonxml/INDICATOR/1002000001/es/0700/false/BISE/2.0/e30830c2-d509-5321-f6f8-94859d202c10?type=json'"
   ]
  },
  {
   "cell_type": "code",
   "execution_count": 63,
   "metadata": {},
   "outputs": [
    {
     "data": {
      "text/plain": [
       "200"
      ]
     },
     "execution_count": 63,
     "metadata": {},
     "output_type": "execute_result"
    }
   ],
   "source": [
    "#Llamado al API\n",
    "respuesta = requests.get(url)\n",
    "respuesta.status_code"
   ]
  },
  {
   "cell_type": "code",
   "execution_count": 64,
   "metadata": {},
   "outputs": [
    {
     "name": "stdout",
     "output_type": "stream",
     "text": [
      "b'{\"Header\":{\"Name\":\"Datos compactos BISE\",\"Email\":\"atencion.usuarios@inegi.org.mx\"},\"Series\":[{\"INDICADOR\":\"1002000001\",\"FREQ\":\"7\",\"TOPIC\":\"123\",\"UNIT\":\"96\",\"UNIT_MULT\":\"\",\"NOTE\":\"1398\",\"SOURCE\":\"2,3,343,487,1714,3001,20101\",\"LASTUPDATE\":\"24/01/2021\",\"STATUS\":\"3\",\"OBSERVATIONS\":[{\"TIME_PERIOD\":\"1910\",\"OBS_VALUE\":\"15160369.00000000000000000000\",\"OBS_EXCEPTION\":null,\"OBS_STATUS\":\"3\",\"OBS_SOURCE\":\"\",\"OBS_NOTE\":\"\",\"COBER_GEO\":\"0700\"},{\"TIME_PERIOD\":\"1921\",\"OBS_VALUE\":\"14334780.00000000000000000000\",\"OBS_EXCEPTION\":null,\"OBS_STATUS\":\"3\",\"OBS_SOURCE\":\"\",\"OBS_NOTE\":\"\",\"COBER_GEO\":\"0700\"},{\"TIME_PERIOD\":\"1930\",\"OBS_VALUE\":\"16552722.00000000000000000000\",\"OBS_EXCEPTION\":null,\"OBS_STATUS\":\"3\",\"OBS_SOURCE\":\"\",\"OBS_NOTE\":\"\",\"COBER_GEO\":\"0700\"},{\"TIME_PERIOD\":\"1940\",\"OBS_VALUE\":\"19653552.00000000000000000000\",\"OBS_EXCEPTION\":null,\"OBS_STATUS\":\"3\",\"OBS_SOURCE\":\"\",\"OBS_NOTE\":\"\",\"COBER_GEO\":\"0700\"},{\"TIME_PERIOD\":\"1950\",\"OBS_VALUE\":\"25791017.00000000000000000000\",\"OBS_EXCEPTION\":null,\"OBS_STATUS\":\"3\",\"OBS_SOURCE\":\"\",\"OBS_NOTE\":\"\",\"COBER_GEO\":\"0700\"},{\"TIME_PERIOD\":\"1960\",\"OBS_VALUE\":\"34923129.00000000000000000000\",\"OBS_EXCEPTION\":null,\"OBS_STATUS\":\"3\",\"OBS_SOURCE\":\"\",\"OBS_NOTE\":\"\",\"COBER_GEO\":\"0700\"},{\"TIME_PERIOD\":\"1970\",\"OBS_VALUE\":\"48225238.00000000000000000000\",\"OBS_EXCEPTION\":null,\"OBS_STATUS\":\"3\",\"OBS_SOURCE\":\"\",\"OBS_NOTE\":\"\",\"COBER_GEO\":\"0700\"},{\"TIME_PERIOD\":\"1980\",\"OBS_VALUE\":\"66846833.00000000000000000000\",\"OBS_EXCEPTION\":null,\"OBS_STATUS\":\"3\",\"OBS_SOURCE\":\"\",\"OBS_NOTE\":\"\",\"COBER_GEO\":\"0700\"},{\"TIME_PERIOD\":\"1990\",\"OBS_VALUE\":\"81249645.00000000000000000000\",\"OBS_EXCEPTION\":null,\"OBS_STATUS\":\"3\",\"OBS_SOURCE\":\"\",\"OBS_NOTE\":\"\",\"COBER_GEO\":\"0700\"},{\"TIME_PERIOD\":\"1995\",\"OBS_VALUE\":\"91158290.00000000000000000000\",\"OBS_EXCEPTION\":null,\"OBS_STATUS\":\"3\",\"OBS_SOURCE\":\"\",\"OBS_NOTE\":\"422,425\",\"COBER_GEO\":\"0700\"},{\"TIME_PERIOD\":\"2000\",\"OBS_VALUE\":\"97483412.00000000000000000000\",\"OBS_EXCEPTION\":null,\"OBS_STATUS\":\"3\",\"OBS_SOURCE\":\"\",\"OBS_NOTE\":\"9,425\",\"COBER_GEO\":\"0700\"},{\"TIME_PERIOD\":\"2005\",\"OBS_VALUE\":\"103263388.00000000000000000000\",\"OBS_EXCEPTION\":null,\"OBS_STATUS\":\"3\",\"OBS_SOURCE\":\"\",\"OBS_NOTE\":\"49,425\",\"COBER_GEO\":\"0700\"},{\"TIME_PERIOD\":\"2010\",\"OBS_VALUE\":\"112336538.00000000000000000000\",\"OBS_EXCEPTION\":null,\"OBS_STATUS\":\"3\",\"OBS_SOURCE\":\"\",\"OBS_NOTE\":\"115,425\",\"COBER_GEO\":\"0700\"},{\"TIME_PERIOD\":\"2015\",\"OBS_VALUE\":\"119938473.00000000000000000000\",\"OBS_EXCEPTION\":null,\"OBS_STATUS\":\"3\",\"OBS_SOURCE\":\"\",\"OBS_NOTE\":\"8230\",\"COBER_GEO\":\"0700\"},{\"TIME_PERIOD\":\"2020\",\"OBS_VALUE\":\"126014024.00000000000000000000\",\"OBS_EXCEPTION\":null,\"OBS_STATUS\":\"3\",\"OBS_SOURCE\":\"\",\"OBS_NOTE\":\"\",\"COBER_GEO\":\"0700\"}]}]}'\n"
     ]
    },
    {
     "data": {
      "text/plain": [
       "{'Header': {'Name': 'Datos compactos BISE',\n",
       "  'Email': 'atencion.usuarios@inegi.org.mx'},\n",
       " 'Series': [{'INDICADOR': '1002000001',\n",
       "   'FREQ': '7',\n",
       "   'TOPIC': '123',\n",
       "   'UNIT': '96',\n",
       "   'UNIT_MULT': '',\n",
       "   'NOTE': '1398',\n",
       "   'SOURCE': '2,3,343,487,1714,3001,20101',\n",
       "   'LASTUPDATE': '24/01/2021',\n",
       "   'STATUS': '3',\n",
       "   'OBSERVATIONS': [{'TIME_PERIOD': '1910',\n",
       "     'OBS_VALUE': '15160369.00000000000000000000',\n",
       "     'OBS_EXCEPTION': None,\n",
       "     'OBS_STATUS': '3',\n",
       "     'OBS_SOURCE': '',\n",
       "     'OBS_NOTE': '',\n",
       "     'COBER_GEO': '0700'},\n",
       "    {'TIME_PERIOD': '1921',\n",
       "     'OBS_VALUE': '14334780.00000000000000000000',\n",
       "     'OBS_EXCEPTION': None,\n",
       "     'OBS_STATUS': '3',\n",
       "     'OBS_SOURCE': '',\n",
       "     'OBS_NOTE': '',\n",
       "     'COBER_GEO': '0700'},\n",
       "    {'TIME_PERIOD': '1930',\n",
       "     'OBS_VALUE': '16552722.00000000000000000000',\n",
       "     'OBS_EXCEPTION': None,\n",
       "     'OBS_STATUS': '3',\n",
       "     'OBS_SOURCE': '',\n",
       "     'OBS_NOTE': '',\n",
       "     'COBER_GEO': '0700'},\n",
       "    {'TIME_PERIOD': '1940',\n",
       "     'OBS_VALUE': '19653552.00000000000000000000',\n",
       "     'OBS_EXCEPTION': None,\n",
       "     'OBS_STATUS': '3',\n",
       "     'OBS_SOURCE': '',\n",
       "     'OBS_NOTE': '',\n",
       "     'COBER_GEO': '0700'},\n",
       "    {'TIME_PERIOD': '1950',\n",
       "     'OBS_VALUE': '25791017.00000000000000000000',\n",
       "     'OBS_EXCEPTION': None,\n",
       "     'OBS_STATUS': '3',\n",
       "     'OBS_SOURCE': '',\n",
       "     'OBS_NOTE': '',\n",
       "     'COBER_GEO': '0700'},\n",
       "    {'TIME_PERIOD': '1960',\n",
       "     'OBS_VALUE': '34923129.00000000000000000000',\n",
       "     'OBS_EXCEPTION': None,\n",
       "     'OBS_STATUS': '3',\n",
       "     'OBS_SOURCE': '',\n",
       "     'OBS_NOTE': '',\n",
       "     'COBER_GEO': '0700'},\n",
       "    {'TIME_PERIOD': '1970',\n",
       "     'OBS_VALUE': '48225238.00000000000000000000',\n",
       "     'OBS_EXCEPTION': None,\n",
       "     'OBS_STATUS': '3',\n",
       "     'OBS_SOURCE': '',\n",
       "     'OBS_NOTE': '',\n",
       "     'COBER_GEO': '0700'},\n",
       "    {'TIME_PERIOD': '1980',\n",
       "     'OBS_VALUE': '66846833.00000000000000000000',\n",
       "     'OBS_EXCEPTION': None,\n",
       "     'OBS_STATUS': '3',\n",
       "     'OBS_SOURCE': '',\n",
       "     'OBS_NOTE': '',\n",
       "     'COBER_GEO': '0700'},\n",
       "    {'TIME_PERIOD': '1990',\n",
       "     'OBS_VALUE': '81249645.00000000000000000000',\n",
       "     'OBS_EXCEPTION': None,\n",
       "     'OBS_STATUS': '3',\n",
       "     'OBS_SOURCE': '',\n",
       "     'OBS_NOTE': '',\n",
       "     'COBER_GEO': '0700'},\n",
       "    {'TIME_PERIOD': '1995',\n",
       "     'OBS_VALUE': '91158290.00000000000000000000',\n",
       "     'OBS_EXCEPTION': None,\n",
       "     'OBS_STATUS': '3',\n",
       "     'OBS_SOURCE': '',\n",
       "     'OBS_NOTE': '422,425',\n",
       "     'COBER_GEO': '0700'},\n",
       "    {'TIME_PERIOD': '2000',\n",
       "     'OBS_VALUE': '97483412.00000000000000000000',\n",
       "     'OBS_EXCEPTION': None,\n",
       "     'OBS_STATUS': '3',\n",
       "     'OBS_SOURCE': '',\n",
       "     'OBS_NOTE': '9,425',\n",
       "     'COBER_GEO': '0700'},\n",
       "    {'TIME_PERIOD': '2005',\n",
       "     'OBS_VALUE': '103263388.00000000000000000000',\n",
       "     'OBS_EXCEPTION': None,\n",
       "     'OBS_STATUS': '3',\n",
       "     'OBS_SOURCE': '',\n",
       "     'OBS_NOTE': '49,425',\n",
       "     'COBER_GEO': '0700'},\n",
       "    {'TIME_PERIOD': '2010',\n",
       "     'OBS_VALUE': '112336538.00000000000000000000',\n",
       "     'OBS_EXCEPTION': None,\n",
       "     'OBS_STATUS': '3',\n",
       "     'OBS_SOURCE': '',\n",
       "     'OBS_NOTE': '115,425',\n",
       "     'COBER_GEO': '0700'},\n",
       "    {'TIME_PERIOD': '2015',\n",
       "     'OBS_VALUE': '119938473.00000000000000000000',\n",
       "     'OBS_EXCEPTION': None,\n",
       "     'OBS_STATUS': '3',\n",
       "     'OBS_SOURCE': '',\n",
       "     'OBS_NOTE': '8230',\n",
       "     'COBER_GEO': '0700'},\n",
       "    {'TIME_PERIOD': '2020',\n",
       "     'OBS_VALUE': '126014024.00000000000000000000',\n",
       "     'OBS_EXCEPTION': None,\n",
       "     'OBS_STATUS': '3',\n",
       "     'OBS_SOURCE': '',\n",
       "     'OBS_NOTE': '',\n",
       "     'COBER_GEO': '0700'}]}]}"
      ]
     },
     "execution_count": 64,
     "metadata": {},
     "output_type": "execute_result"
    }
   ],
   "source": [
    "if respuesta.status_code == 200:\n",
    "    print(respuesta.content)\n",
    "    content = json.loads(respuesta.content)\n",
    "\n",
    "content"
   ]
  },
  {
   "cell_type": "code",
   "execution_count": 65,
   "metadata": {},
   "outputs": [],
   "source": [
    "urlHombres = 'https://www.inegi.org.mx/app/api/indicadores/desarrolladores/jsonxml/INDICATOR/1002000002/es/0700/false/BISE/2.0/e30830c2-d509-5321-f6f8-94859d202c10?type=json'\n",
    "urlMujeres = 'https://www.inegi.org.mx/app/api/indicadores/desarrolladores/jsonxml/INDICATOR/1002000003/es/0700/false/BISE/2.0/e30830c2-d509-5321-f6f8-94859d202c10?type=json'"
   ]
  },
  {
   "cell_type": "code",
   "execution_count": 66,
   "metadata": {},
   "outputs": [
    {
     "name": "stdout",
     "output_type": "stream",
     "text": [
      "200\n",
      "200\n"
     ]
    }
   ],
   "source": [
    "#Llamado al API\n",
    "respuestaHombres = requests.get(urlHombres)\n",
    "respuestaMujeres = requests.get(urlMujeres)\n",
    "print(respuestaHombres.status_code)\n",
    "print(respuestaMujeres.status_code)"
   ]
  },
  {
   "cell_type": "code",
   "execution_count": 67,
   "metadata": {},
   "outputs": [
    {
     "name": "stdout",
     "output_type": "stream",
     "text": [
      "[15160369.0, 14334780.0, 16552722.0, 19653552.0, 25791017.0, 34923129.0, 48225238.0, 66846833.0, 81249645.0, 91158290.0, 97483412.0, 103263388.0, 112336538.0, 119938473.0, 126014024.0]\n",
      "['1910', '1921', '1930', '1940', '1950', '1960', '1970', '1980', '1990', '1995', '2000', '2005', '2010', '2015', '2020']\n"
     ]
    }
   ],
   "source": [
    "poblacion=[]\n",
    "periodo=[]\n",
    "if respuesta.status_code == 200:\n",
    "    #print(respuesta.content)\n",
    "    content = json.loads(respuesta.content)\n",
    "    for dic in content['Series'][0]['OBSERVATIONS'] :\n",
    "       periodo.append( dic['TIME_PERIOD'] )\n",
    "       poblacion.append(float(dic['OBS_VALUE']) )\n",
    "        \n",
    "print(poblacion)\n",
    "print(periodo)"
   ]
  },
  {
   "cell_type": "code",
   "execution_count": 68,
   "metadata": {},
   "outputs": [
    {
     "name": "stdout",
     "output_type": "stream",
     "text": [
      "[7504471.0, 7003785.0, 8119004.0, 9695787.0, 12696935.0, 17415320.0, 24065614.0, 33039307.0, 39893969.0, 44900499.0, 47592253.0, 50249955.0, 54855231.0, 61473390.0]\n",
      "['1910', '1921', '1930', '1940', '1950', '1960', '1970', '1980', '1990', '1995', '2000', '2005', '2010', '2020']\n"
     ]
    }
   ],
   "source": [
    "poblacionHombres=[]\n",
    "periodoHombres=[]\n",
    "if respuestaHombres.status_code == 200:\n",
    "    #print(respuesta.content)\n",
    "    contentHombres = json.loads(respuestaHombres.content)\n",
    "    for dic in contentHombres['Series'][0]['OBSERVATIONS'] :\n",
    "       periodoHombres.append( dic['TIME_PERIOD'] )\n",
    "       poblacionHombres.append(float(dic['OBS_VALUE']) )\n",
    "        \n",
    "print(poblacionHombres)\n",
    "print(periodoHombres)"
   ]
  },
  {
   "cell_type": "code",
   "execution_count": 69,
   "metadata": {},
   "outputs": [
    {
     "name": "stdout",
     "output_type": "stream",
     "text": [
      "[7655898.0, 7330995.0, 8433718.0, 9957765.0, 13094082.0, 17507809.0, 24159624.0, 33807526.0, 41355676.0, 46257791.0, 49891159.0, 53013433.0, 57481307.0, 64540634.0]\n",
      "['1910', '1921', '1930', '1940', '1950', '1960', '1970', '1980', '1990', '1995', '2000', '2005', '2010', '2020']\n"
     ]
    }
   ],
   "source": [
    "poblacionMujeres=[]\n",
    "periodoMujeres=[]\n",
    "if respuestaMujeres.status_code == 200:\n",
    "    #print(respuesta.content)\n",
    "    contentMujeres = json.loads(respuestaMujeres.content)\n",
    "    for dic in contentMujeres['Series'][0]['OBSERVATIONS'] :\n",
    "       periodoMujeres.append( dic['TIME_PERIOD'] )\n",
    "       poblacionMujeres.append(float(dic['OBS_VALUE']) )\n",
    "        \n",
    "print(poblacionMujeres)\n",
    "print(periodoMujeres)"
   ]
  },
  {
   "cell_type": "code",
   "execution_count": 70,
   "metadata": {},
   "outputs": [
    {
     "data": {
      "image/png": "[encoded data removed]",
      "text/plain": [
       "<Figure size 640x480 with 1 Axes>"
      ]
     },
     "metadata": {},
     "output_type": "display_data"
    }
   ],
   "source": [
    "plt.plot(periodo,poblacion,  color='black', linestyle='-',label='Total')\n",
    "plt.plot(periodoMujeres, poblacionMujeres,  color='red', linestyle='--',label='Mujeres')\n",
    "plt.plot(periodoMujeres, poblacionHombres,  color='blue', linestyle='--',label='Hombres')\n",
    "\n",
    "plt.xlabel('Años')\n",
    "plt.ylabel('Población')\n",
    "plt.legend()\n",
    "plt.show()"
   ]
  },
  {
   "cell_type": "markdown",
   "metadata": {},
   "source": [
    "<div class=\"alert alert-success\">\n",
    "2. Mostrar en un mapa  el porcentaje de población de 12 años y más económicamente activa por estados. \n",
    "Utilizar alguna gama de color que a continuación se presenta.\n",
    "\n",
    "</div>"
   ]
  },
  {
   "cell_type": "markdown",
   "metadata": {},
   "source": [
    "<img align=\"left\" style=\"padding-right:10px;\" src=\"figuras/colores.png\">\n"
   ]
  },
  {
   "cell_type": "code",
   "execution_count": 71,
   "metadata": {},
   "outputs": [
    {
     "data": {
      "text/html": [
       "<div>\n",
       "<style scoped>\n",
       "    .dataframe tbody tr th:only-of-type {\n",
       "        vertical-align: middle;\n",
       "    }\n",
       "\n",
       "    .dataframe tbody tr th {\n",
       "        vertical-align: top;\n",
       "    }\n",
       "\n",
       "    .dataframe thead th {\n",
       "        text-align: right;\n",
       "    }\n",
       "</style>\n",
       "<table border=\"1\" class=\"dataframe\">\n",
       "  <thead>\n",
       "    <tr style=\"text-align: right;\">\n",
       "      <th></th>\n",
       "      <th>CLAVE_ENTIDAD</th>\n",
       "      <th>ENTIDAD_FEDERATIVA</th>\n",
       "      <th>ABREVIATURA</th>\n",
       "    </tr>\n",
       "  </thead>\n",
       "  <tbody>\n",
       "    <tr>\n",
       "      <th>0</th>\n",
       "      <td>1</td>\n",
       "      <td>AGUASCALIENTES</td>\n",
       "      <td>AS</td>\n",
       "    </tr>\n",
       "    <tr>\n",
       "      <th>1</th>\n",
       "      <td>2</td>\n",
       "      <td>BAJA CALIFORNIA</td>\n",
       "      <td>BC</td>\n",
       "    </tr>\n",
       "    <tr>\n",
       "      <th>2</th>\n",
       "      <td>3</td>\n",
       "      <td>BAJA CALIFORNIA SUR</td>\n",
       "      <td>BS</td>\n",
       "    </tr>\n",
       "    <tr>\n",
       "      <th>3</th>\n",
       "      <td>4</td>\n",
       "      <td>CAMPECHE</td>\n",
       "      <td>CC</td>\n",
       "    </tr>\n",
       "    <tr>\n",
       "      <th>4</th>\n",
       "      <td>5</td>\n",
       "      <td>COAHUILA DE ZARAGOZA</td>\n",
       "      <td>CL</td>\n",
       "    </tr>\n",
       "    <tr>\n",
       "      <th>5</th>\n",
       "      <td>6</td>\n",
       "      <td>COLIMA</td>\n",
       "      <td>CM</td>\n",
       "    </tr>\n",
       "    <tr>\n",
       "      <th>6</th>\n",
       "      <td>7</td>\n",
       "      <td>CHIAPAS</td>\n",
       "      <td>CS</td>\n",
       "    </tr>\n",
       "    <tr>\n",
       "      <th>7</th>\n",
       "      <td>8</td>\n",
       "      <td>CHIHUAHUA</td>\n",
       "      <td>CH</td>\n",
       "    </tr>\n",
       "    <tr>\n",
       "      <th>8</th>\n",
       "      <td>9</td>\n",
       "      <td>CIUDAD DE MÉXICO</td>\n",
       "      <td>DF</td>\n",
       "    </tr>\n",
       "    <tr>\n",
       "      <th>9</th>\n",
       "      <td>10</td>\n",
       "      <td>DURANGO</td>\n",
       "      <td>DG</td>\n",
       "    </tr>\n",
       "    <tr>\n",
       "      <th>10</th>\n",
       "      <td>11</td>\n",
       "      <td>GUANAJUATO</td>\n",
       "      <td>GT</td>\n",
       "    </tr>\n",
       "    <tr>\n",
       "      <th>11</th>\n",
       "      <td>12</td>\n",
       "      <td>GUERRERO</td>\n",
       "      <td>GR</td>\n",
       "    </tr>\n",
       "    <tr>\n",
       "      <th>12</th>\n",
       "      <td>13</td>\n",
       "      <td>HIDALGO</td>\n",
       "      <td>HG</td>\n",
       "    </tr>\n",
       "    <tr>\n",
       "      <th>13</th>\n",
       "      <td>14</td>\n",
       "      <td>JALISCO</td>\n",
       "      <td>JC</td>\n",
       "    </tr>\n",
       "    <tr>\n",
       "      <th>14</th>\n",
       "      <td>15</td>\n",
       "      <td>MÉXICO</td>\n",
       "      <td>MC</td>\n",
       "    </tr>\n",
       "    <tr>\n",
       "      <th>15</th>\n",
       "      <td>16</td>\n",
       "      <td>MICHOACÁN DE OCAMPO</td>\n",
       "      <td>MN</td>\n",
       "    </tr>\n",
       "    <tr>\n",
       "      <th>16</th>\n",
       "      <td>17</td>\n",
       "      <td>MORELOS</td>\n",
       "      <td>MS</td>\n",
       "    </tr>\n",
       "    <tr>\n",
       "      <th>17</th>\n",
       "      <td>18</td>\n",
       "      <td>NAYARIT</td>\n",
       "      <td>NT</td>\n",
       "    </tr>\n",
       "    <tr>\n",
       "      <th>18</th>\n",
       "      <td>19</td>\n",
       "      <td>NUEVO LEÓN</td>\n",
       "      <td>NL</td>\n",
       "    </tr>\n",
       "    <tr>\n",
       "      <th>19</th>\n",
       "      <td>20</td>\n",
       "      <td>OAXACA</td>\n",
       "      <td>OC</td>\n",
       "    </tr>\n",
       "    <tr>\n",
       "      <th>20</th>\n",
       "      <td>21</td>\n",
       "      <td>PUEBLA</td>\n",
       "      <td>PL</td>\n",
       "    </tr>\n",
       "    <tr>\n",
       "      <th>21</th>\n",
       "      <td>22</td>\n",
       "      <td>QUERÉTARO</td>\n",
       "      <td>QT</td>\n",
       "    </tr>\n",
       "    <tr>\n",
       "      <th>22</th>\n",
       "      <td>23</td>\n",
       "      <td>QUINTANA ROO</td>\n",
       "      <td>QR</td>\n",
       "    </tr>\n",
       "    <tr>\n",
       "      <th>23</th>\n",
       "      <td>24</td>\n",
       "      <td>SAN LUIS POTOSÍ</td>\n",
       "      <td>SP</td>\n",
       "    </tr>\n",
       "    <tr>\n",
       "      <th>24</th>\n",
       "      <td>25</td>\n",
       "      <td>SINALOA</td>\n",
       "      <td>SL</td>\n",
       "    </tr>\n",
       "    <tr>\n",
       "      <th>25</th>\n",
       "      <td>26</td>\n",
       "      <td>SONORA</td>\n",
       "      <td>SR</td>\n",
       "    </tr>\n",
       "    <tr>\n",
       "      <th>26</th>\n",
       "      <td>27</td>\n",
       "      <td>TABASCO</td>\n",
       "      <td>TC</td>\n",
       "    </tr>\n",
       "    <tr>\n",
       "      <th>27</th>\n",
       "      <td>28</td>\n",
       "      <td>TAMAULIPAS</td>\n",
       "      <td>TS</td>\n",
       "    </tr>\n",
       "    <tr>\n",
       "      <th>28</th>\n",
       "      <td>29</td>\n",
       "      <td>TLAXCALA</td>\n",
       "      <td>TL</td>\n",
       "    </tr>\n",
       "    <tr>\n",
       "      <th>29</th>\n",
       "      <td>30</td>\n",
       "      <td>VERACRUZ DE IGNACIO DE LA LLAVE</td>\n",
       "      <td>VZ</td>\n",
       "    </tr>\n",
       "    <tr>\n",
       "      <th>30</th>\n",
       "      <td>31</td>\n",
       "      <td>YUCATÁN</td>\n",
       "      <td>YN</td>\n",
       "    </tr>\n",
       "    <tr>\n",
       "      <th>31</th>\n",
       "      <td>32</td>\n",
       "      <td>ZACATECAS</td>\n",
       "      <td>ZS</td>\n",
       "    </tr>\n",
       "    <tr>\n",
       "      <th>32</th>\n",
       "      <td>36</td>\n",
       "      <td>ESTADOS UNIDOS MEXICANOS</td>\n",
       "      <td>EUM</td>\n",
       "    </tr>\n",
       "    <tr>\n",
       "      <th>33</th>\n",
       "      <td>97</td>\n",
       "      <td>NO APLICA</td>\n",
       "      <td>NaN</td>\n",
       "    </tr>\n",
       "    <tr>\n",
       "      <th>34</th>\n",
       "      <td>98</td>\n",
       "      <td>SE IGNORA</td>\n",
       "      <td>SI</td>\n",
       "    </tr>\n",
       "    <tr>\n",
       "      <th>35</th>\n",
       "      <td>99</td>\n",
       "      <td>NO ESPECIFICADO</td>\n",
       "      <td>NE</td>\n",
       "    </tr>\n",
       "  </tbody>\n",
       "</table>\n",
       "</div>"
      ],
      "text/plain": [
       "    CLAVE_ENTIDAD               ENTIDAD_FEDERATIVA ABREVIATURA\n",
       "0               1                   AGUASCALIENTES          AS\n",
       "1               2                  BAJA CALIFORNIA          BC\n",
       "2               3              BAJA CALIFORNIA SUR          BS\n",
       "3               4                         CAMPECHE          CC\n",
       "4               5             COAHUILA DE ZARAGOZA          CL\n",
       "5               6                           COLIMA          CM\n",
       "6               7                          CHIAPAS          CS\n",
       "7               8                        CHIHUAHUA          CH\n",
       "8               9                 CIUDAD DE MÉXICO          DF\n",
       "9              10                          DURANGO          DG\n",
       "10             11                       GUANAJUATO          GT\n",
       "11             12                         GUERRERO          GR\n",
       "12             13                          HIDALGO          HG\n",
       "13             14                          JALISCO          JC\n",
       "14             15                           MÉXICO          MC\n",
       "15             16              MICHOACÁN DE OCAMPO          MN\n",
       "16             17                          MORELOS          MS\n",
       "17             18                          NAYARIT          NT\n",
       "18             19                       NUEVO LEÓN          NL\n",
       "19             20                           OAXACA          OC\n",
       "20             21                           PUEBLA          PL\n",
       "21             22                        QUERÉTARO          QT\n",
       "22             23                     QUINTANA ROO          QR\n",
       "23             24                  SAN LUIS POTOSÍ          SP\n",
       "24             25                          SINALOA          SL\n",
       "25             26                           SONORA          SR\n",
       "26             27                          TABASCO          TC\n",
       "27             28                       TAMAULIPAS          TS\n",
       "28             29                         TLAXCALA          TL\n",
       "29             30  VERACRUZ DE IGNACIO DE LA LLAVE          VZ\n",
       "30             31                          YUCATÁN          YN\n",
       "31             32                        ZACATECAS          ZS\n",
       "32             36         ESTADOS UNIDOS MEXICANOS         EUM\n",
       "33             97                        NO APLICA         NaN\n",
       "34             98                        SE IGNORA          SI\n",
       "35             99                  NO ESPECIFICADO          NE"
      ]
     },
     "execution_count": 71,
     "metadata": {},
     "output_type": "execute_result"
    }
   ],
   "source": [
    "catalog_States = pd.read_csv('datos/Catalogo_entidades.csv')\n",
    "catalog_States"
   ]
  },
  {
   "cell_type": "code",
   "execution_count": 85,
   "metadata": {},
   "outputs": [
    {
     "ename": "TypeError",
     "evalue": "'NoneType' object is not subscriptable",
     "output_type": "error",
     "traceback": [
      "\u001b[1;31m---------------------------------------------------------------------------\u001b[0m",
      "\u001b[1;31mTypeError\u001b[0m                                 Traceback (most recent call last)",
      "\u001b[1;32md:\\Coding\\Ciencia Datos\\CD_18_INEGI\\INEGI_ejemplos.ipynb Cell 21\u001b[0m in \u001b[0;36m<cell line: 3>\u001b[1;34m()\u001b[0m\n\u001b[0;32m     <a href='vscode-notebook-cell:/d%3A/Coding/Ciencia%20Datos/CD_18_INEGI/INEGI_ejemplos.ipynb#X30sZmlsZQ%3D%3D?line=9'>10</a>\u001b[0m     \u001b[39mif\u001b[39;00m responseEstados\u001b[39m.\u001b[39mstatus_code \u001b[39m==\u001b[39m \u001b[39m200\u001b[39m:\n\u001b[0;32m     <a href='vscode-notebook-cell:/d%3A/Coding/Ciencia%20Datos/CD_18_INEGI/INEGI_ejemplos.ipynb#X30sZmlsZQ%3D%3D?line=10'>11</a>\u001b[0m         contenido \u001b[39m=\u001b[39m json\u001b[39m.\u001b[39mloads(responseEstados\u001b[39m.\u001b[39mcontent)\n\u001b[1;32m---> <a href='vscode-notebook-cell:/d%3A/Coding/Ciencia%20Datos/CD_18_INEGI/INEGI_ejemplos.ipynb#X30sZmlsZQ%3D%3D?line=11'>12</a>\u001b[0m         lista_porcentaje\u001b[39m.\u001b[39mappend(\u001b[39mround\u001b[39m(\u001b[39mfloat\u001b[39m(contenido[\u001b[39m'\u001b[39;49m\u001b[39mSeries\u001b[39;49m\u001b[39m'\u001b[39;49m][\u001b[39m0\u001b[39;49m][\u001b[39m'\u001b[39m\u001b[39mOBSERVATIONS\u001b[39m\u001b[39m'\u001b[39m][\u001b[39m0\u001b[39m][\u001b[39m'\u001b[39m\u001b[39mOBS_VALUE\u001b[39m\u001b[39m'\u001b[39m]),\u001b[39m4\u001b[39m))\n\u001b[0;32m     <a href='vscode-notebook-cell:/d%3A/Coding/Ciencia%20Datos/CD_18_INEGI/INEGI_ejemplos.ipynb#X30sZmlsZQ%3D%3D?line=13'>14</a>\u001b[0m catalog_States[\u001b[39m'\u001b[39m\u001b[39mPORCENTAJE\u001b[39m\u001b[39m'\u001b[39m] \u001b[39m=\u001b[39m lista_porcentaje\n\u001b[0;32m     <a href='vscode-notebook-cell:/d%3A/Coding/Ciencia%20Datos/CD_18_INEGI/INEGI_ejemplos.ipynb#X30sZmlsZQ%3D%3D?line=15'>16</a>\u001b[0m catalog_States\u001b[39m.\u001b[39mhead()\n",
      "\u001b[1;31mTypeError\u001b[0m: 'NoneType' object is not subscriptable"
     ]
    }
   ],
   "source": [
    "lista_porcentaje= []\n",
    "\n",
    "for numero in catalog_States['CLAVE_ENTIDAD']:\n",
    "    if numero < 10:\n",
    "        idnum = '0700000'+str(numero)\n",
    "    else:\n",
    "        idnum = '070000'+str(numero)\n",
    "    urlEstados = 'https://www.inegi.org.mx/app/api/indicadores/desarrolladores/jsonxml/INDICATOR/6207019030/es/'+ idnum +'/true/BISE/2.0/e30830c2-d509-5321-f6f8-94859d202c10?type=json'\n",
    "    responseEstados = requests.get(urlEstados)\n",
    "    if responseEstados.status_code == 200:\n",
    "        contenido = json.loads(responseEstados.content)\n",
    "        lista_porcentaje.append(round(float(contenido['Series'][0]['OBSERVATIONS'][0]['OBS_VALUE']),4))\n",
    "\n",
    "catalog_States['PORCENTAJE'] = lista_porcentaje\n",
    "\n",
    "catalog_States.head()"
   ]
  },
  {
   "cell_type": "code",
   "execution_count": null,
   "metadata": {},
   "outputs": [],
   "source": [
    "import folium\n",
    "map = folium.Map(location=[24,-102], zoom_start=5,min_zoom=5,max_zoom=6)"
   ]
  },
  {
   "cell_type": "code",
   "execution_count": null,
   "metadata": {},
   "outputs": [],
   "source": [
    "estados_geo = ('datos/mexico_estados_geo.json')\n",
    "#TItulo\n",
    "titulo=\"Porcentaje de 12 años y \"\n",
    "\n",
    "folium.Choropleth(geo_data=estados_geo, data=df_estados, \n",
    "             columns=['ABREVIATURA', 'PORCENTAJE'],\n",
    "             key_on='feature.id',\n",
    "             fill_color='RdPu', fill_opacity=0.9, line_opacity=0.9,\n",
    "             legend_name=titulo).add_to(map)\n",
    "map"
   ]
  },
  {
   "cell_type": "code",
   "execution_count": null,
   "metadata": {},
   "outputs": [],
   "source": []
  }
 ],
 "metadata": {
  "kernelspec": {
   "display_name": "Python 3.10.7 64-bit",
   "language": "python",
   "name": "python3"
  },
  "language_info": {
   "codemirror_mode": {
    "name": "ipython",
    "version": 3
   },
   "file_extension": ".py",
   "mimetype": "text/x-python",
   "name": "python",
   "nbconvert_exporter": "python",
   "pygments_lexer": "ipython3",
   "version": "3.10.7"
  },
  "vscode": {
   "interpreter": {
    "hash": "a4089c162f9be3b77d1c644bfe729d02bb03d8ff8fb7e500653989a8c9c9202a"
   }
  }
 },
 "nbformat": 4,
 "nbformat_minor": 4
}
